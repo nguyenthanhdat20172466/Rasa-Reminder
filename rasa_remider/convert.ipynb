{
 "cells": [
  {
   "cell_type": "code",
   "execution_count": null,
   "metadata": {},
   "outputs": [],
   "source": [
    "import json\n",
    "\n",
    "with open('uit_member.json', 'r') as f:\n",
    "  data = json.load(f)\n",
    "\n",
    "print(type(data))\n",
    "print(data)"
   ]
  }
 ],
 "metadata": {
  "kernelspec": {
   "display_name": "Python 3.7.9 64-bit",
   "language": "python",
   "name": "python3"
  },
  "language_info": {
   "name": "python",
   "version": "3.7.9"
  },
  "orig_nbformat": 4,
  "vscode": {
   "interpreter": {
    "hash": "d8b02b684a1a528a87e4ff9a00763f7699579eeb83d53089f55d69094b10f3e0"
   }
  }
 },
 "nbformat": 4,
 "nbformat_minor": 2
}
